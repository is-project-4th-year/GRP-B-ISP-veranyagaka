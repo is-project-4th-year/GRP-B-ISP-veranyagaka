{
 "cells": [
  {
   "cell_type": "code",
   "execution_count": 1,
   "id": "3fadfceb",
   "metadata": {},
   "outputs": [
    {
     "name": "stdout",
     "output_type": "stream",
     "text": [
      "True\n"
     ]
    }
   ],
   "source": [
    "import torch\n",
    "print(torch.cuda.is_available())  # Should print True if GPU is active\n"
   ]
  },
  {
   "cell_type": "code",
   "execution_count": 2,
   "id": "fc72e5b6",
   "metadata": {},
   "outputs": [],
   "source": [
    "device = torch.device('cuda' if torch.cuda.is_available() else 'cpu')\n"
   ]
  },
  {
   "cell_type": "code",
   "execution_count": 5,
   "id": "508edcf1",
   "metadata": {},
   "outputs": [],
   "source": [
    "import torch\n",
    "import torch.nn as nn\n",
    "import torch.optim as optim\n",
    "from torch.utils.data import DataLoader, Dataset\n",
    "from torchvision import transforms\n",
    "from PIL import Image\n",
    "import os\n",
    "\n",
    "# SRCNN Model\n",
    "class SRCNN(nn.Module):\n",
    "    def __init__(self):\n",
    "        super(SRCNN, self).__init__()\n",
    "        self.layer1 = nn.Conv2d(1, 64, kernel_size=9, padding=4)\n",
    "        self.layer2 = nn.Conv2d(64, 32, kernel_size=1)\n",
    "        self.layer3 = nn.Conv2d(32, 1, kernel_size=5, padding=2)\n",
    "        self.relu = nn.ReLU(inplace=True)\n",
    "\n",
    "    def forward(self, x):\n",
    "        x = self.relu(self.layer1(x))\n",
    "        x = self.relu(self.layer2(x))\n",
    "        x = self.layer3(x)\n",
    "        return x\n",
    "\n",
    "# Dataset class for X-rays\n",
    "class XrayDataset(Dataset):\n",
    "    def __init__(self, high_res_dir, transform=None, downsample_factor=2):\n",
    "        self.high_res_dir = high_res_dir\n",
    "        self.transform = transform\n",
    "        self.downsample_factor = downsample_factor\n",
    "        self.file_names = [f for f in os.listdir(high_res_dir) if f.endswith(('png', 'jpg', 'jpeg'))]\n",
    "\n",
    "    def __len__(self):\n",
    "        return len(self.file_names)\n",
    "\n",
    "    def __getitem__(self, idx):\n",
    "        img_name = self.file_names[idx]\n",
    "        hr_image = Image.open(os.path.join(self.high_res_dir, img_name)).convert('L')\n",
    "\n",
    "        # Downsample and then upsample to create low-res\n",
    "        lr_image = hr_image.resize((hr_image.width // self.downsample_factor, hr_image.height // self.downsample_factor), Image.BICUBIC)\n",
    "        lr_image = lr_image.resize((hr_image.width, hr_image.height), Image.BICUBIC)\n",
    "\n",
    "        if self.transform:\n",
    "            hr_image = self.transform(hr_image)\n",
    "            lr_image = self.transform(lr_image)\n",
    "\n",
    "        return lr_image, hr_image\n",
    "\n",
    "# Transform to tensor only\n",
    "transform = transforms.Compose([transforms.Resize((1024, 1280)), transforms.ToTensor()])\n",
    "\n",
    "# Example for data loading, use your path and batch size\n",
    "dataset = XrayDataset('high_res_images', transform=transform, downsample_factor=2)\n",
    "dataloader = DataLoader(dataset, batch_size=16, shuffle=True)\n",
    "\n",
    "# Initialize model, loss, optimizer\n",
    "model = SRCNN()\n",
    "model = model.to(device)\n",
    "criterion = nn.MSELoss()\n",
    "optimizer = optim.Adam(model.parameters(), lr=0.001)\n",
    "num_epochs = 5\n",
    "\n"
   ]
  },
  {
   "cell_type": "code",
   "execution_count": null,
   "id": "0c31705e",
   "metadata": {},
   "outputs": [],
   "source": [
    "\n",
    "# Training loop example snippet\n",
    "for epoch in range(num_epochs):\n",
    "    for lr_imgs, hr_imgs in dataloader:\n",
    "        lr_imgs = lr_imgs.to(device)\n",
    "        hr_imgs = hr_imgs.to(device)\n",
    "        \n",
    "        optimizer.zero_grad()\n",
    "        outputs = model(lr_imgs)\n",
    "        loss = criterion(outputs, hr_imgs)\n",
    "        loss.backward()\n",
    "        optimizer.step()\n",
    "\n",
    "# Save the trained model weights\n",
    "torch.save(model.state_dict(), 'srcnn_xray.pth')"
   ]
  }
 ],
 "metadata": {
  "kernelspec": {
   "display_name": "Python 3 (ipykernel)",
   "language": "python",
   "name": "python3"
  }
 },
 "nbformat": 4,
 "nbformat_minor": 5
}
